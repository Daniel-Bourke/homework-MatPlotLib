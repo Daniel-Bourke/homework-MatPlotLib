{
 "cells": [
  {
   "cell_type": "markdown",
   "metadata": {},
   "source": [
    "## Observations and Insights "
   ]
  },
  {
   "cell_type": "markdown",
   "metadata": {},
   "source": [
    "Excluding duplicated mice, with mouse ID = g989, there were 248 mice in the study.\n",
    "\n",
    "The gender distribution of the mice in the study was almost even (50.4% male)\n",
    "\n",
    "Capomulin and Ramicane appeared to be more effective than Infubinol and Ceftamin (given the smaller tumor volumes)\n",
    "\n",
    "For the Capomulin regimen, there was a relatively strong positive linear correlation between mice weight and tumor volume.\n"
   ]
  },
  {
   "cell_type": "code",
   "execution_count": 15,
   "metadata": {},
   "outputs": [
    {
     "data": {
      "text/html": [
       "<div>\n",
       "<style scoped>\n",
       "    .dataframe tbody tr th:only-of-type {\n",
       "        vertical-align: middle;\n",
       "    }\n",
       "\n",
       "    .dataframe tbody tr th {\n",
       "        vertical-align: top;\n",
       "    }\n",
       "\n",
       "    .dataframe thead th {\n",
       "        text-align: right;\n",
       "    }\n",
       "</style>\n",
       "<table border=\"1\" class=\"dataframe\">\n",
       "  <thead>\n",
       "    <tr style=\"text-align: right;\">\n",
       "      <th></th>\n",
       "      <th>Mouse ID</th>\n",
       "      <th>Drug Regimen</th>\n",
       "      <th>Sex</th>\n",
       "      <th>Age_months</th>\n",
       "      <th>Weight (g)</th>\n",
       "      <th>Timepoint</th>\n",
       "      <th>Tumor Volume (mm3)</th>\n",
       "      <th>Metastatic Sites</th>\n",
       "    </tr>\n",
       "  </thead>\n",
       "  <tbody>\n",
       "    <tr>\n",
       "      <th>0</th>\n",
       "      <td>k403</td>\n",
       "      <td>Ramicane</td>\n",
       "      <td>Male</td>\n",
       "      <td>21</td>\n",
       "      <td>16</td>\n",
       "      <td>0</td>\n",
       "      <td>45.000000</td>\n",
       "      <td>0</td>\n",
       "    </tr>\n",
       "    <tr>\n",
       "      <th>1</th>\n",
       "      <td>k403</td>\n",
       "      <td>Ramicane</td>\n",
       "      <td>Male</td>\n",
       "      <td>21</td>\n",
       "      <td>16</td>\n",
       "      <td>5</td>\n",
       "      <td>38.825898</td>\n",
       "      <td>0</td>\n",
       "    </tr>\n",
       "    <tr>\n",
       "      <th>2</th>\n",
       "      <td>k403</td>\n",
       "      <td>Ramicane</td>\n",
       "      <td>Male</td>\n",
       "      <td>21</td>\n",
       "      <td>16</td>\n",
       "      <td>10</td>\n",
       "      <td>35.014271</td>\n",
       "      <td>1</td>\n",
       "    </tr>\n",
       "    <tr>\n",
       "      <th>3</th>\n",
       "      <td>k403</td>\n",
       "      <td>Ramicane</td>\n",
       "      <td>Male</td>\n",
       "      <td>21</td>\n",
       "      <td>16</td>\n",
       "      <td>15</td>\n",
       "      <td>34.223992</td>\n",
       "      <td>1</td>\n",
       "    </tr>\n",
       "    <tr>\n",
       "      <th>4</th>\n",
       "      <td>k403</td>\n",
       "      <td>Ramicane</td>\n",
       "      <td>Male</td>\n",
       "      <td>21</td>\n",
       "      <td>16</td>\n",
       "      <td>20</td>\n",
       "      <td>32.997729</td>\n",
       "      <td>1</td>\n",
       "    </tr>\n",
       "  </tbody>\n",
       "</table>\n",
       "</div>"
      ],
      "text/plain": [
       "  Mouse ID Drug Regimen   Sex  Age_months  Weight (g)  Timepoint  \\\n",
       "0     k403     Ramicane  Male          21          16          0   \n",
       "1     k403     Ramicane  Male          21          16          5   \n",
       "2     k403     Ramicane  Male          21          16         10   \n",
       "3     k403     Ramicane  Male          21          16         15   \n",
       "4     k403     Ramicane  Male          21          16         20   \n",
       "\n",
       "   Tumor Volume (mm3)  Metastatic Sites  \n",
       "0           45.000000                 0  \n",
       "1           38.825898                 0  \n",
       "2           35.014271                 1  \n",
       "3           34.223992                 1  \n",
       "4           32.997729                 1  "
      ]
     },
     "execution_count": 15,
     "metadata": {},
     "output_type": "execute_result"
    }
   ],
   "source": [
    "# Dependencies and Setup\n",
    "import matplotlib.pyplot as plt\n",
    "import pandas as pd\n",
    "import scipy.stats as st\n",
    "import numpy as np\n",
    "\n",
    "# Study data files\n",
    "mouse_metadata_path = \"data/Mouse_metadata.csv\"\n",
    "study_results_path = \"data/Study_results.csv\"\n",
    "\n",
    "# Read the mouse data and the study results\n",
    "mouse_metadata = pd.read_csv(mouse_metadata_path)\n",
    "study_results = pd.read_csv(study_results_path)\n",
    "\n",
    "# Combine the data into a single dataset\n",
    "combined_df = pd.merge(mouse_metadata, study_results, how=\"inner\", on=\"Mouse ID\")\n",
    "\n",
    "# Display the data table for preview\n",
    "combined_df.head()"
   ]
  },
  {
   "cell_type": "code",
   "execution_count": 16,
   "metadata": {},
   "outputs": [
    {
     "data": {
      "text/plain": [
       "249"
      ]
     },
     "execution_count": 16,
     "metadata": {},
     "output_type": "execute_result"
    }
   ],
   "source": [
    "# Checking the number of mice.\n",
    "mouse_count = combined_df[\"Mouse ID\"].nunique()\n",
    "mouse_count"
   ]
  },
  {
   "cell_type": "code",
   "execution_count": 17,
   "metadata": {},
   "outputs": [
    {
     "data": {
      "text/plain": [
       "'g989'"
      ]
     },
     "execution_count": 17,
     "metadata": {},
     "output_type": "execute_result"
    }
   ],
   "source": [
    "# Getting the duplicate mice by ID number that shows up for Mouse ID and Timepoint. \n",
    "\n",
    "# get all the rows of the study results where the mouse id and timepoint are equal / duplicated\n",
    "duplicated_rows_df = study_results[study_results.duplicated(['Mouse ID', 'Timepoint'])]\n",
    "\n",
    "#check how many mice have a duplication\n",
    "duplicated_rows_df[\"Mouse ID\"].nunique()\n",
    "\n",
    "# get the duplicated mouse ID\n",
    "duplicated_mouse_ID = duplicated_rows_df[\"Mouse ID\"].iloc[0]\n",
    "duplicated_mouse_ID"
   ]
  },
  {
   "cell_type": "code",
   "execution_count": 18,
   "metadata": {},
   "outputs": [
    {
     "data": {
      "text/html": [
       "<div>\n",
       "<style scoped>\n",
       "    .dataframe tbody tr th:only-of-type {\n",
       "        vertical-align: middle;\n",
       "    }\n",
       "\n",
       "    .dataframe tbody tr th {\n",
       "        vertical-align: top;\n",
       "    }\n",
       "\n",
       "    .dataframe thead th {\n",
       "        text-align: right;\n",
       "    }\n",
       "</style>\n",
       "<table border=\"1\" class=\"dataframe\">\n",
       "  <thead>\n",
       "    <tr style=\"text-align: right;\">\n",
       "      <th></th>\n",
       "      <th>Mouse ID</th>\n",
       "      <th>Drug Regimen</th>\n",
       "      <th>Sex</th>\n",
       "      <th>Age_months</th>\n",
       "      <th>Weight (g)</th>\n",
       "      <th>Timepoint</th>\n",
       "      <th>Tumor Volume (mm3)</th>\n",
       "      <th>Metastatic Sites</th>\n",
       "    </tr>\n",
       "  </thead>\n",
       "  <tbody>\n",
       "    <tr>\n",
       "      <th>0</th>\n",
       "      <td>g989</td>\n",
       "      <td>Propriva</td>\n",
       "      <td>Female</td>\n",
       "      <td>21</td>\n",
       "      <td>26</td>\n",
       "      <td>0</td>\n",
       "      <td>45.000000</td>\n",
       "      <td>0</td>\n",
       "    </tr>\n",
       "    <tr>\n",
       "      <th>1</th>\n",
       "      <td>g989</td>\n",
       "      <td>Propriva</td>\n",
       "      <td>Female</td>\n",
       "      <td>21</td>\n",
       "      <td>26</td>\n",
       "      <td>0</td>\n",
       "      <td>45.000000</td>\n",
       "      <td>0</td>\n",
       "    </tr>\n",
       "    <tr>\n",
       "      <th>2</th>\n",
       "      <td>g989</td>\n",
       "      <td>Propriva</td>\n",
       "      <td>Female</td>\n",
       "      <td>21</td>\n",
       "      <td>26</td>\n",
       "      <td>5</td>\n",
       "      <td>48.786801</td>\n",
       "      <td>0</td>\n",
       "    </tr>\n",
       "    <tr>\n",
       "      <th>3</th>\n",
       "      <td>g989</td>\n",
       "      <td>Propriva</td>\n",
       "      <td>Female</td>\n",
       "      <td>21</td>\n",
       "      <td>26</td>\n",
       "      <td>5</td>\n",
       "      <td>47.570392</td>\n",
       "      <td>0</td>\n",
       "    </tr>\n",
       "    <tr>\n",
       "      <th>4</th>\n",
       "      <td>g989</td>\n",
       "      <td>Propriva</td>\n",
       "      <td>Female</td>\n",
       "      <td>21</td>\n",
       "      <td>26</td>\n",
       "      <td>10</td>\n",
       "      <td>51.745156</td>\n",
       "      <td>0</td>\n",
       "    </tr>\n",
       "    <tr>\n",
       "      <th>5</th>\n",
       "      <td>g989</td>\n",
       "      <td>Propriva</td>\n",
       "      <td>Female</td>\n",
       "      <td>21</td>\n",
       "      <td>26</td>\n",
       "      <td>10</td>\n",
       "      <td>49.880528</td>\n",
       "      <td>0</td>\n",
       "    </tr>\n",
       "    <tr>\n",
       "      <th>6</th>\n",
       "      <td>g989</td>\n",
       "      <td>Propriva</td>\n",
       "      <td>Female</td>\n",
       "      <td>21</td>\n",
       "      <td>26</td>\n",
       "      <td>15</td>\n",
       "      <td>51.325852</td>\n",
       "      <td>1</td>\n",
       "    </tr>\n",
       "    <tr>\n",
       "      <th>7</th>\n",
       "      <td>g989</td>\n",
       "      <td>Propriva</td>\n",
       "      <td>Female</td>\n",
       "      <td>21</td>\n",
       "      <td>26</td>\n",
       "      <td>15</td>\n",
       "      <td>53.442020</td>\n",
       "      <td>0</td>\n",
       "    </tr>\n",
       "    <tr>\n",
       "      <th>8</th>\n",
       "      <td>g989</td>\n",
       "      <td>Propriva</td>\n",
       "      <td>Female</td>\n",
       "      <td>21</td>\n",
       "      <td>26</td>\n",
       "      <td>20</td>\n",
       "      <td>55.326122</td>\n",
       "      <td>1</td>\n",
       "    </tr>\n",
       "    <tr>\n",
       "      <th>9</th>\n",
       "      <td>g989</td>\n",
       "      <td>Propriva</td>\n",
       "      <td>Female</td>\n",
       "      <td>21</td>\n",
       "      <td>26</td>\n",
       "      <td>20</td>\n",
       "      <td>54.657650</td>\n",
       "      <td>1</td>\n",
       "    </tr>\n",
       "    <tr>\n",
       "      <th>10</th>\n",
       "      <td>g989</td>\n",
       "      <td>Propriva</td>\n",
       "      <td>Female</td>\n",
       "      <td>21</td>\n",
       "      <td>26</td>\n",
       "      <td>25</td>\n",
       "      <td>56.045564</td>\n",
       "      <td>1</td>\n",
       "    </tr>\n",
       "    <tr>\n",
       "      <th>11</th>\n",
       "      <td>g989</td>\n",
       "      <td>Propriva</td>\n",
       "      <td>Female</td>\n",
       "      <td>21</td>\n",
       "      <td>26</td>\n",
       "      <td>30</td>\n",
       "      <td>59.082294</td>\n",
       "      <td>1</td>\n",
       "    </tr>\n",
       "    <tr>\n",
       "      <th>12</th>\n",
       "      <td>g989</td>\n",
       "      <td>Propriva</td>\n",
       "      <td>Female</td>\n",
       "      <td>21</td>\n",
       "      <td>26</td>\n",
       "      <td>35</td>\n",
       "      <td>62.570880</td>\n",
       "      <td>2</td>\n",
       "    </tr>\n",
       "  </tbody>\n",
       "</table>\n",
       "</div>"
      ],
      "text/plain": [
       "   Mouse ID Drug Regimen     Sex  Age_months  Weight (g)  Timepoint  \\\n",
       "0      g989     Propriva  Female          21          26          0   \n",
       "1      g989     Propriva  Female          21          26          0   \n",
       "2      g989     Propriva  Female          21          26          5   \n",
       "3      g989     Propriva  Female          21          26          5   \n",
       "4      g989     Propriva  Female          21          26         10   \n",
       "5      g989     Propriva  Female          21          26         10   \n",
       "6      g989     Propriva  Female          21          26         15   \n",
       "7      g989     Propriva  Female          21          26         15   \n",
       "8      g989     Propriva  Female          21          26         20   \n",
       "9      g989     Propriva  Female          21          26         20   \n",
       "10     g989     Propriva  Female          21          26         25   \n",
       "11     g989     Propriva  Female          21          26         30   \n",
       "12     g989     Propriva  Female          21          26         35   \n",
       "\n",
       "    Tumor Volume (mm3)  Metastatic Sites  \n",
       "0            45.000000                 0  \n",
       "1            45.000000                 0  \n",
       "2            48.786801                 0  \n",
       "3            47.570392                 0  \n",
       "4            51.745156                 0  \n",
       "5            49.880528                 0  \n",
       "6            51.325852                 1  \n",
       "7            53.442020                 0  \n",
       "8            55.326122                 1  \n",
       "9            54.657650                 1  \n",
       "10           56.045564                 1  \n",
       "11           59.082294                 1  \n",
       "12           62.570880                 2  "
      ]
     },
     "execution_count": 18,
     "metadata": {},
     "output_type": "execute_result"
    }
   ],
   "source": [
    "# Optional: Get all the data for the duplicate mouse ID. \n",
    "\n",
    "# when mouse id is equal to the duplicated mouse id\n",
    "duplicated_mouse_study_results_df = study_results[study_results[\"Mouse ID\"]==duplicated_mouse_ID]\n",
    "\n",
    "#duplicated_mouse_study_results_df\n",
    "\n",
    "# merge the study results with the mouse table to get all the data for the duplicated mouse\n",
    "duplicated_mouse_all_data_df = pd.merge(mouse_metadata, duplicated_mouse_study_results_df, how=\"inner\", on=\"Mouse ID\")\n",
    "\n",
    "duplicated_mouse_all_data_df"
   ]
  },
  {
   "cell_type": "code",
   "execution_count": 19,
   "metadata": {},
   "outputs": [],
   "source": [
    "# Create a clean DataFrame by dropping the duplicate mouse by its ID.\n",
    "clean_studyresults_df = study_results[study_results[\"Mouse ID\"]!=\"g989\"]\n",
    "\n",
    "# get the clean combined data frame by merginng the clean study results table with the mouse table\n",
    "clean_combined_df = pd.merge(mouse_metadata, clean_studyresults_df, how=\"inner\", on=\"Mouse ID\")"
   ]
  },
  {
   "cell_type": "code",
   "execution_count": 20,
   "metadata": {},
   "outputs": [
    {
     "data": {
      "text/plain": [
       "248"
      ]
     },
     "execution_count": 20,
     "metadata": {},
     "output_type": "execute_result"
    }
   ],
   "source": [
    "# Checking the number of mice in the clean DataFrame.\n",
    "clean_combined_df[\"Mouse ID\"].nunique()"
   ]
  },
  {
   "cell_type": "markdown",
   "metadata": {},
   "source": [
    "## Summary Statistics"
   ]
  },
  {
   "cell_type": "code",
   "execution_count": 21,
   "metadata": {},
   "outputs": [
    {
     "data": {
      "text/html": [
       "<div>\n",
       "<style scoped>\n",
       "    .dataframe tbody tr th:only-of-type {\n",
       "        vertical-align: middle;\n",
       "    }\n",
       "\n",
       "    .dataframe tbody tr th {\n",
       "        vertical-align: top;\n",
       "    }\n",
       "\n",
       "    .dataframe thead th {\n",
       "        text-align: right;\n",
       "    }\n",
       "</style>\n",
       "<table border=\"1\" class=\"dataframe\">\n",
       "  <thead>\n",
       "    <tr style=\"text-align: right;\">\n",
       "      <th></th>\n",
       "      <th>Mean</th>\n",
       "      <th>Median</th>\n",
       "      <th>Variance</th>\n",
       "      <th>Standard Deviation</th>\n",
       "      <th>SEM</th>\n",
       "    </tr>\n",
       "    <tr>\n",
       "      <th>Drug Regimen</th>\n",
       "      <th></th>\n",
       "      <th></th>\n",
       "      <th></th>\n",
       "      <th></th>\n",
       "      <th></th>\n",
       "    </tr>\n",
       "  </thead>\n",
       "  <tbody>\n",
       "    <tr>\n",
       "      <th>Capomulin</th>\n",
       "      <td>40.676</td>\n",
       "      <td>41.558</td>\n",
       "      <td>24.948</td>\n",
       "      <td>4.995</td>\n",
       "      <td>0.329</td>\n",
       "    </tr>\n",
       "    <tr>\n",
       "      <th>Ceftamin</th>\n",
       "      <td>52.591</td>\n",
       "      <td>51.776</td>\n",
       "      <td>39.290</td>\n",
       "      <td>6.268</td>\n",
       "      <td>0.470</td>\n",
       "    </tr>\n",
       "    <tr>\n",
       "      <th>Infubinol</th>\n",
       "      <td>52.885</td>\n",
       "      <td>51.821</td>\n",
       "      <td>43.129</td>\n",
       "      <td>6.567</td>\n",
       "      <td>0.492</td>\n",
       "    </tr>\n",
       "    <tr>\n",
       "      <th>Ketapril</th>\n",
       "      <td>55.236</td>\n",
       "      <td>53.699</td>\n",
       "      <td>68.554</td>\n",
       "      <td>8.280</td>\n",
       "      <td>0.604</td>\n",
       "    </tr>\n",
       "    <tr>\n",
       "      <th>Naftisol</th>\n",
       "      <td>54.332</td>\n",
       "      <td>52.509</td>\n",
       "      <td>66.173</td>\n",
       "      <td>8.135</td>\n",
       "      <td>0.596</td>\n",
       "    </tr>\n",
       "    <tr>\n",
       "      <th>Placebo</th>\n",
       "      <td>54.034</td>\n",
       "      <td>52.289</td>\n",
       "      <td>61.168</td>\n",
       "      <td>7.821</td>\n",
       "      <td>0.581</td>\n",
       "    </tr>\n",
       "    <tr>\n",
       "      <th>Propriva</th>\n",
       "      <td>52.321</td>\n",
       "      <td>50.446</td>\n",
       "      <td>43.852</td>\n",
       "      <td>6.622</td>\n",
       "      <td>0.544</td>\n",
       "    </tr>\n",
       "    <tr>\n",
       "      <th>Ramicane</th>\n",
       "      <td>40.217</td>\n",
       "      <td>40.673</td>\n",
       "      <td>23.487</td>\n",
       "      <td>4.846</td>\n",
       "      <td>0.321</td>\n",
       "    </tr>\n",
       "    <tr>\n",
       "      <th>Stelasyn</th>\n",
       "      <td>54.233</td>\n",
       "      <td>52.432</td>\n",
       "      <td>59.451</td>\n",
       "      <td>7.710</td>\n",
       "      <td>0.573</td>\n",
       "    </tr>\n",
       "    <tr>\n",
       "      <th>Zoniferol</th>\n",
       "      <td>53.237</td>\n",
       "      <td>51.818</td>\n",
       "      <td>48.533</td>\n",
       "      <td>6.967</td>\n",
       "      <td>0.516</td>\n",
       "    </tr>\n",
       "  </tbody>\n",
       "</table>\n",
       "</div>"
      ],
      "text/plain": [
       "                Mean  Median  Variance  Standard Deviation    SEM\n",
       "Drug Regimen                                                     \n",
       "Capomulin     40.676  41.558    24.948               4.995  0.329\n",
       "Ceftamin      52.591  51.776    39.290               6.268  0.470\n",
       "Infubinol     52.885  51.821    43.129               6.567  0.492\n",
       "Ketapril      55.236  53.699    68.554               8.280  0.604\n",
       "Naftisol      54.332  52.509    66.173               8.135  0.596\n",
       "Placebo       54.034  52.289    61.168               7.821  0.581\n",
       "Propriva      52.321  50.446    43.852               6.622  0.544\n",
       "Ramicane      40.217  40.673    23.487               4.846  0.321\n",
       "Stelasyn      54.233  52.432    59.451               7.710  0.573\n",
       "Zoniferol     53.237  51.818    48.533               6.967  0.516"
      ]
     },
     "execution_count": 21,
     "metadata": {},
     "output_type": "execute_result"
    }
   ],
   "source": [
    "# Generate a summary statistics table of mean, median, variance, standard deviation, and SEM of the tumor volume for each regimen\n",
    "\n",
    "# group the data by drug regimen\n",
    "drug_regimen_groupby = clean_combined_df.groupby([\"Drug Regimen\"])\n",
    "\n",
    "#get the tumor volume stats \n",
    "mean = drug_regimen_groupby['Tumor Volume (mm3)'].mean()\n",
    "median = drug_regimen_groupby['Tumor Volume (mm3)'].median()\n",
    "variance = drug_regimen_groupby['Tumor Volume (mm3)'].var()\n",
    "standard_dv = drug_regimen_groupby['Tumor Volume (mm3)'].std()\n",
    "sem =drug_regimen_groupby['Tumor Volume (mm3)'].sem()\n",
    "\n",
    "#combine the stats in a summary table\n",
    "summary_df = pd.DataFrame({\"Mean\": mean, \"Median\": median, \"Variance\": variance, \"Standard Deviation\": standard_dv, \"SEM\": sem}).round(3)\n",
    "\n",
    "summary_df\n",
    "# This method is the most straighforward, creating multiple series and putting them all together at the end.\n",
    "\n"
   ]
  },
  {
   "cell_type": "code",
   "execution_count": 22,
   "metadata": {},
   "outputs": [],
   "source": [
    "# Generate a summary statistics table of mean, median, variance, standard deviation, and SEM of the tumor volume for each regimen\n",
    "\n",
    "# This method produces everything in a single groupby function\n",
    "\n"
   ]
  },
  {
   "cell_type": "markdown",
   "metadata": {},
   "source": [
    "## Bar and Pie Charts"
   ]
  },
  {
   "cell_type": "code",
   "execution_count": 23,
   "metadata": {},
   "outputs": [],
   "source": [
    "# for \"Total number of mice\", we need to only show 1 row for each mouse\n",
    "unique_clean_combined_df=clean_combined_df.drop_duplicates(subset=['Mouse ID'])"
   ]
  },
  {
   "cell_type": "code",
   "execution_count": 24,
   "metadata": {},
   "outputs": [
    {
     "data": {
      "image/png": "[encoded data removed]",
      "text/plain": [
       "<Figure size 432x288 with 1 Axes>"
      ]
     },
     "metadata": {
      "needs_background": "light"
     },
     "output_type": "display_data"
    }
   ],
   "source": [
    "# Generate a bar plot showing the total number of mice for each treatment throughout the course of the study using pandas. \n",
    "\n",
    "\n",
    "drug_regmens_counts = unique_clean_combined_df['Drug Regimen'].value_counts()\n",
    "y_axis = np.arange(len(drug_regmens_counts))\n",
    "\n",
    "#Creating Chart\n",
    "drug_regmens_counts.sort_values(ascending=True).plot(kind=\"barh\", width=0.8, color='#3594BF')\n",
    "\n",
    "#set chart title\n",
    "plt.title(\"Total Number of Mice undergoing each Treatment Type\")\n",
    "plt.ylabel(\"Treatment Type\")\n",
    "plt.xlabel(\"# of Mice\")\n",
    "plt.show()\n"
   ]
  },
  {
   "cell_type": "code",
   "execution_count": 25,
   "metadata": {},
   "outputs": [
    {
     "data": {
      "text/plain": [
       "array(['Propriva', 'Stelasyn', 'Naftisol', 'Ketapril', 'Zoniferol',\n",
       "       'Ceftamin', 'Placebo', 'Infubinol', 'Capomulin', 'Ramicane'],\n",
       "      dtype=object)"
      ]
     },
     "execution_count": 25,
     "metadata": {},
     "output_type": "execute_result"
    }
   ],
   "source": [
    "# testing reversing arrays, in order to change from ascending to descending\n",
    "y_axis[::-1]\n",
    "drug_regmens_counts.index.values[::-1]"
   ]
  },
  {
   "cell_type": "code",
   "execution_count": 26,
   "metadata": {},
   "outputs": [
    {
     "data": {
      "image/png": "[encoded data removed]",
      "text/plain": [
       "<Figure size 432x288 with 1 Axes>"
      ]
     },
     "metadata": {
      "needs_background": "light"
     },
     "output_type": "display_data"
    }
   ],
   "source": [
    "# Generate a bar plot showing the total number of mice for each treatment throughout the course of the study using pyplot.\n",
    "\n",
    "\n",
    "plt.barh(y_axis[::-1], drug_regmens_counts.sort_values(ascending=False),height =0.8,color='#3594BF')\n",
    "tick_locations = [value for value in y_axis]\n",
    "plt.yticks(tick_locations, drug_regmens_counts.index.values[::-1])\n",
    "\n",
    "#plt.barh(drug_regimens,regimen_count)\n",
    "plt.title(\"Total Number of Mice undergoing each Treatment Type\")\n",
    "plt.ylabel(\"Treatment Type\")\n",
    "plt.xlabel(\"# of Mice\")\n",
    "plt.show()\n"
   ]
  },
  {
   "cell_type": "code",
   "execution_count": 27,
   "metadata": {},
   "outputs": [
    {
     "data": {
      "image/png": "[encoded data removed]",
      "text/plain": [
       "<Figure size 432x288 with 1 Axes>"
      ]
     },
     "metadata": {},
     "output_type": "display_data"
    }
   ],
   "source": [
    "# Generate a pie plot showing the distribution of female versus male mice using pandas\n",
    "\n",
    "gender_df= unique_clean_combined_df.groupby([\"Sex\"]).count().reset_index()\n",
    "gender_df = gender_df[[\"Sex\",\"Mouse ID\"]]\n",
    "gender_df = gender_df.rename(columns={\"Mouse ID\": \"Count\"})\n",
    "gender_df[\"Colours\"]=[\"#FC2DF5\",\"#2786DD\"]\n",
    "\n",
    "\n",
    "gender_df.plot(kind=\"pie\", \n",
    "               y = \"Count\", \n",
    "               autopct='%1.2f%%',\n",
    "               legend=False,\n",
    "               startangle=90,\n",
    "               shadow=True, \n",
    "               labels=gender_df[\"Sex\"],\n",
    "               colors = gender_df[\"Colours\"],\n",
    "               explode = (0.1, 0))\n",
    "\n",
    "plt.title(\"Gender Distribution of Mice Trialed\")\n",
    "plt.xlabel(\"\")\n",
    "plt.ylabel(\"\")\n",
    "plt.show()"
   ]
  },
  {
   "cell_type": "code",
   "execution_count": 28,
   "metadata": {},
   "outputs": [
    {
     "data": {
      "image/png": "[encoded data removed]",
      "text/plain": [
       "<Figure size 432x288 with 1 Axes>"
      ]
     },
     "metadata": {},
     "output_type": "display_data"
    }
   ],
   "source": [
    "# Generate a pie plot showing the distribution of female versus male mice using pyplot\n",
    "gender_df= unique_clean_combined_df.groupby([\"Sex\"]).count()\n",
    "gender_df = gender_df[[\"Mouse ID\"]]\n",
    "gender_df = gender_df.rename(columns={\"Mouse ID\": \"Count\"})\n",
    "gender_df[\"Colours\"]=[\"#FC2DF5\",\"#2786DD\"]\n",
    "\n",
    "plt.pie(gender_df[\"Count\"],\n",
    "        labels=gender_df.index,\n",
    "        colors=gender_df[\"Colours\"],\n",
    "        autopct=\"%1.2f%%\", \n",
    "        shadow=True, \n",
    "        startangle=90,\n",
    "       explode = (0.1, 0))\n",
    "\n",
    "plt.title(\"Gender Distribution of Mice Trialed\")\n",
    "plt.xlabel(\"\")\n",
    "plt.ylabel(\"\")\n",
    "plt.show()"
   ]
  },
  {
   "cell_type": "markdown",
   "metadata": {},
   "source": [
    "## Quartiles, Outliers and Boxplots"
   ]
  },
  {
   "cell_type": "code",
   "execution_count": 29,
   "metadata": {},
   "outputs": [
    {
     "data": {
      "text/html": [
       "<div>\n",
       "<style scoped>\n",
       "    .dataframe tbody tr th:only-of-type {\n",
       "        vertical-align: middle;\n",
       "    }\n",
       "\n",
       "    .dataframe tbody tr th {\n",
       "        vertical-align: top;\n",
       "    }\n",
       "\n",
       "    .dataframe thead th {\n",
       "        text-align: right;\n",
       "    }\n",
       "</style>\n",
       "<table border=\"1\" class=\"dataframe\">\n",
       "  <thead>\n",
       "    <tr style=\"text-align: right;\">\n",
       "      <th></th>\n",
       "      <th>Regimen</th>\n",
       "      <th>Low Q</th>\n",
       "      <th>Up Q</th>\n",
       "      <th>IQR</th>\n",
       "      <th>L Bnd</th>\n",
       "      <th>U Bnd</th>\n",
       "      <th>#O-Liers</th>\n",
       "    </tr>\n",
       "  </thead>\n",
       "  <tbody>\n",
       "    <tr>\n",
       "      <th>Capomulin</th>\n",
       "      <td>Capomulin</td>\n",
       "      <td>32.38</td>\n",
       "      <td>40.16</td>\n",
       "      <td>7.78</td>\n",
       "      <td>20.71</td>\n",
       "      <td>51.83</td>\n",
       "      <td>0</td>\n",
       "    </tr>\n",
       "    <tr>\n",
       "      <th>Ramicane</th>\n",
       "      <td>Ramicane</td>\n",
       "      <td>31.56</td>\n",
       "      <td>40.66</td>\n",
       "      <td>9.10</td>\n",
       "      <td>17.91</td>\n",
       "      <td>54.31</td>\n",
       "      <td>0</td>\n",
       "    </tr>\n",
       "    <tr>\n",
       "      <th>Infubinol</th>\n",
       "      <td>Infubinol</td>\n",
       "      <td>54.05</td>\n",
       "      <td>65.53</td>\n",
       "      <td>11.48</td>\n",
       "      <td>36.83</td>\n",
       "      <td>82.75</td>\n",
       "      <td>1</td>\n",
       "    </tr>\n",
       "    <tr>\n",
       "      <th>Ceftamin</th>\n",
       "      <td>Ceftamin</td>\n",
       "      <td>48.72</td>\n",
       "      <td>64.30</td>\n",
       "      <td>15.58</td>\n",
       "      <td>25.35</td>\n",
       "      <td>87.67</td>\n",
       "      <td>0</td>\n",
       "    </tr>\n",
       "  </tbody>\n",
       "</table>\n",
       "</div>"
      ],
      "text/plain": [
       "             Regimen  Low Q   Up Q    IQR  L Bnd  U Bnd #O-Liers\n",
       "Capomulin  Capomulin  32.38  40.16   7.78  20.71  51.83        0\n",
       "Ramicane    Ramicane  31.56  40.66   9.10  17.91  54.31        0\n",
       "Infubinol  Infubinol  54.05  65.53  11.48  36.83  82.75        1\n",
       "Ceftamin    Ceftamin  48.72  64.30  15.58  25.35  87.67        0"
      ]
     },
     "execution_count": 29,
     "metadata": {},
     "output_type": "execute_result"
    }
   ],
   "source": [
    "# Calculate the final tumor volume of each mouse across four of the treatment regimens:  \n",
    "# Capomulin, Ramicane, Infubinol, and Ceftamin\n",
    "\n",
    "#List of the 4 top treatments\n",
    "Treatment_List=[\"Capomulin\",\"Ramicane\",\"Infubinol\",\"Ceftamin\"]\n",
    "Treatment_values=[]\n",
    "\n",
    "# Sort the data by the timpoint (descending)\n",
    "sorted_df=clean_combined_df.sort_values([\"Timepoint\"], ascending=False)\n",
    "\n",
    "# becuase the data is sorted by timepoint, Dropping duplicates will leave only the the \"latest\" timepoint for each mouse\n",
    "latest_df=sorted_df.drop_duplicates(subset=['Mouse ID'])\n",
    "latest_df\n",
    "\n",
    "empty_df = pd.DataFrame(columns=['Regimen','Low Q','Up Q',\"IQR\",\"L Bnd\",\"U Bnd\",\"#O-Liers\"])\n",
    "\n",
    "for regimen in Treatment_List:\n",
    "    _df = latest_df.loc[latest_df['Drug Regimen'] == regimen]\n",
    "    values = _df['Tumor Volume (mm3)']\n",
    "    Treatment_values.append(values)\n",
    "    quartiles = values.quantile([.25,.5,.75])\n",
    "    lowerq = round(quartiles[0.25],2)\n",
    "    upperq = round(quartiles[0.75],2)\n",
    "\n",
    "    iqr = round(upperq - lowerq,2)\n",
    "\n",
    "    lower_bound = round(lowerq - (1.5*iqr),2)\n",
    "    upper_bound = round(upperq + (1.5*iqr),2)\n",
    "    \n",
    "    outliers_count = (values.loc[(latest_df['Tumor Volume (mm3)'] > upper_bound) | (latest_df['Tumor Volume (mm3)'] < lower_bound)]).count()\n",
    "    \n",
    "    data = {\"Regimen\": regimen,\n",
    "            \"Low Q\":lowerq,\n",
    "            \"Up Q\":upperq,\n",
    "            \"IQR\":iqr,\n",
    "            \"L Bnd\":lower_bound,\n",
    "            \"U Bnd\":upper_bound,\n",
    "            \"#O-Liers\":outliers_count}\n",
    "    \n",
    "    empty_df.loc[regimen]=data\n",
    "    \n",
    "empty_df"
   ]
  },
  {
   "cell_type": "code",
   "execution_count": 30,
   "metadata": {},
   "outputs": [
    {
     "data": {
      "image/png": "[encoded data removed]",
      "text/plain": [
       "<Figure size 432x288 with 1 Axes>"
      ]
     },
     "metadata": {
      "needs_background": "light"
     },
     "output_type": "display_data"
    }
   ],
   "source": [
    "# Generate a box plot of the final tumor volume of each mouse across four regimens of interest\n",
    "\n",
    "plt.boxplot(Treatment_values, labels=Treatment_List,sym=\"x\")\n",
    "plt.title(\"Box Plot: Final Tumor Volume vs Treatment Type\")\n",
    "plt.xlabel(\"Treatment Type\")\n",
    "plt.ylabel(\"Final Tumor Volume (mm3)\")\n",
    "plt.show()"
   ]
  },
  {
   "cell_type": "markdown",
   "metadata": {},
   "source": [
    "## Line and Scatter Plots"
   ]
  },
  {
   "cell_type": "code",
   "execution_count": 31,
   "metadata": {},
   "outputs": [
    {
     "data": {
      "image/png": "[encoded data removed]",
      "text/plain": [
       "<Figure size 432x288 with 1 Axes>"
      ]
     },
     "metadata": {
      "needs_background": "light"
     },
     "output_type": "display_data"
    }
   ],
   "source": [
    "# Generate a line plot of time point versus tumor volume for a mouse treated with Capomulin\n",
    "capomulin_df=clean_combined_df[clean_combined_df[\"Drug Regimen\"]==\"Capomulin\"]\n",
    "no_of_capo=len(capomulin_df)\n",
    "rando=np.random.randint(0,no_of_capo)\n",
    "mouseID=capomulin_df.iloc[rando][\"Mouse ID\"]\n",
    "chosen_mouse_df=clean_combined_df[clean_combined_df[\"Mouse ID\"]== mouseID]\n",
    "chosen_mouse_df\n",
    "plt.plot(chosen_mouse_df['Timepoint'], chosen_mouse_df['Tumor Volume (mm3)'], marker = 'o')\n",
    "plt.title(f\"Tumor Volume over time for mouse {mouseID}\")\n",
    "plt.xlabel(\"TimePoint\")\n",
    "plt.ylabel(\"Tumor Volume (mm3)\")\n",
    "plt.show()"
   ]
  },
  {
   "cell_type": "code",
   "execution_count": 32,
   "metadata": {},
   "outputs": [
    {
     "data": {
      "image/png": "[encoded data removed]",
      "text/plain": [
       "<Figure size 432x288 with 1 Axes>"
      ]
     },
     "metadata": {
      "needs_background": "light"
     },
     "output_type": "display_data"
    }
   ],
   "source": [
    "# Generate a scatter plot of mouse weight versus average tumor volume for the Capomulin regimen\n",
    "capomulin_df\n",
    "capomulin_averages_df = capomulin_df.groupby(['Mouse ID']).mean()\n",
    "capomulin_averages_df\n",
    "plt.scatter(capomulin_averages_df['Weight (g)'],capomulin_averages_df['Tumor Volume (mm3)'])\n",
    "plt.title(\"Avg Tumor Vol vs Weight\")\n",
    "plt.xlabel('Weight (g)')\n",
    "plt.ylabel('Average Tumor Volume (mm3)')\n",
    "plt.show()"
   ]
  },
  {
   "cell_type": "markdown",
   "metadata": {},
   "source": [
    "## Correlation and Regression"
   ]
  },
  {
   "cell_type": "code",
   "execution_count": 33,
   "metadata": {},
   "outputs": [],
   "source": [
    "# Calculate the correlation coefficient and linear regression model \n",
    "# for mouse weight and average tumor volume for the Capomulin regimen\n",
    "(slope, intercept, rvalue, pvalue, stderr)=st.linregress(capomulin_averages_df['Weight (g)'],capomulin_averages_df['Tumor Volume (mm3)'])"
   ]
  },
  {
   "cell_type": "code",
   "execution_count": 34,
   "metadata": {},
   "outputs": [
    {
     "data": {
      "image/png": "[encoded data removed]",
      "text/plain": [
       "<Figure size 432x288 with 1 Axes>"
      ]
     },
     "metadata": {
      "needs_background": "light"
     },
     "output_type": "display_data"
    }
   ],
   "source": [
    "capomulin_averages_df = capomulin_df.groupby(['Mouse ID']).mean()\n",
    "\n",
    "line = slope*(capomulin_averages_df['Weight (g)'])+intercept\n",
    "\n",
    "annotation=f\"y={round(slope,2)}x+{round(intercept,2)}\"\n",
    "\n",
    "plt.scatter(capomulin_averages_df['Weight (g)'],capomulin_averages_df['Tumor Volume (mm3)'])\n",
    "\n",
    "plt.plot(capomulin_averages_df['Weight (g)'], line,color=\"red\")\n",
    "\n",
    "plt.annotate(annotation, xy=(16,44),color=\"red\")\n",
    "plt.annotate(f\" r={round(rvalue,2)}\", xy=(16,43),color=\"red\")\n",
    "\n",
    "plt.title(\"Avg Tumor Vol vs Weight\")\n",
    "plt.xlabel('Weight (g)')\n",
    "plt.ylabel('Average Tumor Volume (mm3)')\n",
    "\n",
    "plt.show()"
   ]
  },
  {
   "cell_type": "code",
   "execution_count": null,
   "metadata": {},
   "outputs": [],
   "source": []
  },
  {
   "cell_type": "code",
   "execution_count": null,
   "metadata": {},
   "outputs": [],
   "source": []
  }
 ],
 "metadata": {
  "anaconda-cloud": {},
  "kernelspec": {
   "display_name": "Python [conda env:PythonData] *",
   "language": "python",
   "name": "conda-env-PythonData-py"
  },
  "language_info": {
   "codemirror_mode": {
    "name": "ipython",
    "version": 3
   },
   "file_extension": ".py",
   "mimetype": "text/x-python",
   "name": "python",
   "nbconvert_exporter": "python",
   "pygments_lexer": "ipython3",
   "version": "3.7.11"
  }
 },
 "nbformat": 4,
 "nbformat_minor": 2
}
